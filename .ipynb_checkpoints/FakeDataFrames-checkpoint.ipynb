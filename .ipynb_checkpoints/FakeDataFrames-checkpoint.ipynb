{
 "cells": [
  {
   "cell_type": "code",
   "execution_count": 71,
   "metadata": {},
   "outputs": [],
   "source": [
    "import pandas as pd\n",
    "import matplotlib.pyplot as plt\n",
    "import numpy as np\n",
    "import seaborn as sns\n",
    "import datetime \n",
    "import time\n",
    "import radix\n",
    "import gpxpy\n",
    "import gpxpy.gpx\n",
    "import requests\n",
    "import math\n",
    "import json\n",
    "\n",
    "%matplotlib inline"
   ]
  },
  {
   "cell_type": "code",
   "execution_count": 72,
   "metadata": {},
   "outputs": [],
   "source": [
    "DataFrame1 = pd.read_csv('track_points.csv', sep=\",\", usecols=(0,1))"
   ]
  },
  {
   "cell_type": "code",
   "execution_count": 73,
   "metadata": {},
   "outputs": [
    {
     "data": {
      "text/html": [
       "<div>\n",
       "<style scoped>\n",
       "    .dataframe tbody tr th:only-of-type {\n",
       "        vertical-align: middle;\n",
       "    }\n",
       "\n",
       "    .dataframe tbody tr th {\n",
       "        vertical-align: top;\n",
       "    }\n",
       "\n",
       "    .dataframe thead th {\n",
       "        text-align: right;\n",
       "    }\n",
       "</style>\n",
       "<table border=\"1\" class=\"dataframe\">\n",
       "  <thead>\n",
       "    <tr style=\"text-align: right;\">\n",
       "      <th></th>\n",
       "      <th>X</th>\n",
       "      <th>Y</th>\n",
       "    </tr>\n",
       "  </thead>\n",
       "  <tbody>\n",
       "    <tr>\n",
       "      <th>0</th>\n",
       "      <td>-123.256691</td>\n",
       "      <td>44.587662</td>\n",
       "    </tr>\n",
       "    <tr>\n",
       "      <th>1</th>\n",
       "      <td>-123.256691</td>\n",
       "      <td>44.587662</td>\n",
       "    </tr>\n",
       "    <tr>\n",
       "      <th>2</th>\n",
       "      <td>-123.256691</td>\n",
       "      <td>44.587654</td>\n",
       "    </tr>\n",
       "    <tr>\n",
       "      <th>3</th>\n",
       "      <td>-123.256699</td>\n",
       "      <td>44.587643</td>\n",
       "    </tr>\n",
       "    <tr>\n",
       "      <th>4</th>\n",
       "      <td>-123.256714</td>\n",
       "      <td>44.587627</td>\n",
       "    </tr>\n",
       "  </tbody>\n",
       "</table>\n",
       "</div>"
      ],
      "text/plain": [
       "            X          Y\n",
       "0 -123.256691  44.587662\n",
       "1 -123.256691  44.587662\n",
       "2 -123.256691  44.587654\n",
       "3 -123.256699  44.587643\n",
       "4 -123.256714  44.587627"
      ]
     },
     "execution_count": 73,
     "metadata": {},
     "output_type": "execute_result"
    }
   ],
   "source": [
    "DataFrame1.head()"
   ]
  },
  {
   "cell_type": "code",
   "execution_count": 90,
   "metadata": {},
   "outputs": [
    {
     "data": {
      "text/html": [
       "<div>\n",
       "<style scoped>\n",
       "    .dataframe tbody tr th:only-of-type {\n",
       "        vertical-align: middle;\n",
       "    }\n",
       "\n",
       "    .dataframe tbody tr th {\n",
       "        vertical-align: top;\n",
       "    }\n",
       "\n",
       "    .dataframe thead th {\n",
       "        text-align: right;\n",
       "    }\n",
       "</style>\n",
       "<table border=\"1\" class=\"dataframe\">\n",
       "  <thead>\n",
       "    <tr style=\"text-align: right;\">\n",
       "      <th></th>\n",
       "      <th>X</th>\n",
       "      <th>Y</th>\n",
       "    </tr>\n",
       "  </thead>\n",
       "  <tbody>\n",
       "    <tr>\n",
       "      <th>0</th>\n",
       "      <td>-123.256691</td>\n",
       "      <td>44.587662</td>\n",
       "    </tr>\n",
       "    <tr>\n",
       "      <th>1</th>\n",
       "      <td>-123.256691</td>\n",
       "      <td>44.587662</td>\n",
       "    </tr>\n",
       "    <tr>\n",
       "      <th>2</th>\n",
       "      <td>-123.256691</td>\n",
       "      <td>44.587654</td>\n",
       "    </tr>\n",
       "    <tr>\n",
       "      <th>3</th>\n",
       "      <td>-123.256699</td>\n",
       "      <td>44.587643</td>\n",
       "    </tr>\n",
       "    <tr>\n",
       "      <th>4</th>\n",
       "      <td>-123.256714</td>\n",
       "      <td>44.587627</td>\n",
       "    </tr>\n",
       "    <tr>\n",
       "      <th>...</th>\n",
       "      <td>...</td>\n",
       "      <td>...</td>\n",
       "    </tr>\n",
       "    <tr>\n",
       "      <th>18370</th>\n",
       "      <td>-123.263397</td>\n",
       "      <td>44.587345</td>\n",
       "    </tr>\n",
       "    <tr>\n",
       "      <th>18371</th>\n",
       "      <td>-123.263428</td>\n",
       "      <td>44.587334</td>\n",
       "    </tr>\n",
       "    <tr>\n",
       "      <th>18372</th>\n",
       "      <td>-123.263451</td>\n",
       "      <td>44.587311</td>\n",
       "    </tr>\n",
       "    <tr>\n",
       "      <th>18373</th>\n",
       "      <td>-123.263458</td>\n",
       "      <td>44.587288</td>\n",
       "    </tr>\n",
       "    <tr>\n",
       "      <th>18374</th>\n",
       "      <td>-123.263443</td>\n",
       "      <td>44.587273</td>\n",
       "    </tr>\n",
       "  </tbody>\n",
       "</table>\n",
       "<p>18375 rows × 2 columns</p>\n",
       "</div>"
      ],
      "text/plain": [
       "                X          Y\n",
       "0     -123.256691  44.587662\n",
       "1     -123.256691  44.587662\n",
       "2     -123.256691  44.587654\n",
       "3     -123.256699  44.587643\n",
       "4     -123.256714  44.587627\n",
       "...           ...        ...\n",
       "18370 -123.263397  44.587345\n",
       "18371 -123.263428  44.587334\n",
       "18372 -123.263451  44.587311\n",
       "18373 -123.263458  44.587288\n",
       "18374 -123.263443  44.587273\n",
       "\n",
       "[18375 rows x 2 columns]"
      ]
     },
     "execution_count": 90,
     "metadata": {},
     "output_type": "execute_result"
    }
   ],
   "source": [
    "DataFrame1.iloc[0:]"
   ]
  },
  {
   "cell_type": "code",
   "execution_count": 91,
   "metadata": {},
   "outputs": [
    {
     "data": {
      "text/plain": [
       "18375"
      ]
     },
     "execution_count": 91,
     "metadata": {},
     "output_type": "execute_result"
    }
   ],
   "source": [
    "len(DataFrame1)"
   ]
  },
  {
   "cell_type": "code",
   "execution_count": 105,
   "metadata": {},
   "outputs": [
    {
     "data": {
      "text/html": [
       "<div>\n",
       "<style scoped>\n",
       "    .dataframe tbody tr th:only-of-type {\n",
       "        vertical-align: middle;\n",
       "    }\n",
       "\n",
       "    .dataframe tbody tr th {\n",
       "        vertical-align: top;\n",
       "    }\n",
       "\n",
       "    .dataframe thead th {\n",
       "        text-align: right;\n",
       "    }\n",
       "</style>\n",
       "<table border=\"1\" class=\"dataframe\">\n",
       "  <thead>\n",
       "    <tr style=\"text-align: right;\">\n",
       "      <th></th>\n",
       "      <th>X</th>\n",
       "      <th>Y</th>\n",
       "    </tr>\n",
       "  </thead>\n",
       "  <tbody>\n",
       "    <tr>\n",
       "      <th>0</th>\n",
       "      <td>-123.256691</td>\n",
       "      <td>44.587662</td>\n",
       "    </tr>\n",
       "    <tr>\n",
       "      <th>735</th>\n",
       "      <td>-123.264595</td>\n",
       "      <td>44.612835</td>\n",
       "    </tr>\n",
       "    <tr>\n",
       "      <th>1470</th>\n",
       "      <td>-123.274559</td>\n",
       "      <td>44.630478</td>\n",
       "    </tr>\n",
       "    <tr>\n",
       "      <th>2205</th>\n",
       "      <td>-123.295586</td>\n",
       "      <td>44.636280</td>\n",
       "    </tr>\n",
       "    <tr>\n",
       "      <th>2940</th>\n",
       "      <td>-123.278564</td>\n",
       "      <td>44.662323</td>\n",
       "    </tr>\n",
       "    <tr>\n",
       "      <th>3675</th>\n",
       "      <td>-123.243805</td>\n",
       "      <td>44.683083</td>\n",
       "    </tr>\n",
       "    <tr>\n",
       "      <th>4410</th>\n",
       "      <td>-123.274673</td>\n",
       "      <td>44.699368</td>\n",
       "    </tr>\n",
       "    <tr>\n",
       "      <th>5145</th>\n",
       "      <td>-123.304802</td>\n",
       "      <td>44.726227</td>\n",
       "    </tr>\n",
       "    <tr>\n",
       "      <th>5880</th>\n",
       "      <td>-123.271141</td>\n",
       "      <td>44.742973</td>\n",
       "    </tr>\n",
       "    <tr>\n",
       "      <th>6615</th>\n",
       "      <td>-123.223145</td>\n",
       "      <td>44.746567</td>\n",
       "    </tr>\n",
       "  </tbody>\n",
       "</table>\n",
       "</div>"
      ],
      "text/plain": [
       "               X          Y\n",
       "0    -123.256691  44.587662\n",
       "735  -123.264595  44.612835\n",
       "1470 -123.274559  44.630478\n",
       "2205 -123.295586  44.636280\n",
       "2940 -123.278564  44.662323\n",
       "3675 -123.243805  44.683083\n",
       "4410 -123.274673  44.699368\n",
       "5145 -123.304802  44.726227\n",
       "5880 -123.271141  44.742973\n",
       "6615 -123.223145  44.746567"
      ]
     },
     "execution_count": 105,
     "metadata": {},
     "output_type": "execute_result"
    }
   ],
   "source": [
    "# a small dataframe for testing \n",
    "df_len = len(DataFrame1)\n",
    "# DataFrame2 = pd.DataFrame()\n",
    "small_data = list()\n",
    "for i in range(df_len):\n",
    "    denominator = df_len/100\n",
    "    if i % denominator == 0:\n",
    "        small_data.append(DataFrame1.iloc[i])\n",
    "      \n",
    "DataFrame2 = pd.DataFrame(small_data)\n",
    "DataFrame2.head(10)"
   ]
  },
  {
   "cell_type": "code",
   "execution_count": 110,
   "metadata": {},
   "outputs": [],
   "source": [
    "DataFrame2 = DataFrame2.reset_index(drop=True)"
   ]
  },
  {
   "cell_type": "code",
   "execution_count": 111,
   "metadata": {},
   "outputs": [
    {
     "data": {
      "text/html": [
       "<div>\n",
       "<style scoped>\n",
       "    .dataframe tbody tr th:only-of-type {\n",
       "        vertical-align: middle;\n",
       "    }\n",
       "\n",
       "    .dataframe tbody tr th {\n",
       "        vertical-align: top;\n",
       "    }\n",
       "\n",
       "    .dataframe thead th {\n",
       "        text-align: right;\n",
       "    }\n",
       "</style>\n",
       "<table border=\"1\" class=\"dataframe\">\n",
       "  <thead>\n",
       "    <tr style=\"text-align: right;\">\n",
       "      <th></th>\n",
       "      <th>X</th>\n",
       "      <th>Y</th>\n",
       "    </tr>\n",
       "  </thead>\n",
       "  <tbody>\n",
       "    <tr>\n",
       "      <th>0</th>\n",
       "      <td>-123.256691</td>\n",
       "      <td>44.587662</td>\n",
       "    </tr>\n",
       "    <tr>\n",
       "      <th>1</th>\n",
       "      <td>-123.264595</td>\n",
       "      <td>44.612835</td>\n",
       "    </tr>\n",
       "    <tr>\n",
       "      <th>2</th>\n",
       "      <td>-123.274559</td>\n",
       "      <td>44.630478</td>\n",
       "    </tr>\n",
       "    <tr>\n",
       "      <th>3</th>\n",
       "      <td>-123.295586</td>\n",
       "      <td>44.636280</td>\n",
       "    </tr>\n",
       "    <tr>\n",
       "      <th>4</th>\n",
       "      <td>-123.278564</td>\n",
       "      <td>44.662323</td>\n",
       "    </tr>\n",
       "  </tbody>\n",
       "</table>\n",
       "</div>"
      ],
      "text/plain": [
       "            X          Y\n",
       "0 -123.256691  44.587662\n",
       "1 -123.264595  44.612835\n",
       "2 -123.274559  44.630478\n",
       "3 -123.295586  44.636280\n",
       "4 -123.278564  44.662323"
      ]
     },
     "execution_count": 111,
     "metadata": {},
     "output_type": "execute_result"
    }
   ],
   "source": [
    "DataFrame2.head()"
   ]
  },
  {
   "cell_type": "code",
   "execution_count": 76,
   "metadata": {},
   "outputs": [
    {
     "data": {
      "text/plain": [
       "-123.25669099999999"
      ]
     },
     "execution_count": 76,
     "metadata": {},
     "output_type": "execute_result"
    }
   ],
   "source": [
    "DataFrame2.iloc[0][0]"
   ]
  },
  {
   "cell_type": "code",
   "execution_count": 96,
   "metadata": {},
   "outputs": [
    {
     "data": {
      "text/plain": [
       "18374"
      ]
     },
     "execution_count": 96,
     "metadata": {},
     "output_type": "execute_result"
    }
   ],
   "source": [
    "DataFrame1.index[-1]"
   ]
  },
  {
   "cell_type": "code",
   "execution_count": 77,
   "metadata": {},
   "outputs": [
    {
     "name": "stdout",
     "output_type": "stream",
     "text": [
      "[[-123.25669099999999, 44.587662], [-123.264595, 44.612834899999996], [-123.27455900000001, 44.630477899999995], [-123.29558600000001, 44.63628]]\n",
      "[-123.25669099999999, 44.587662]\n",
      "[-123.264595, 44.612834899999996]\n",
      "[-123.27455900000001, 44.630477899999995]\n",
      "[-123.29558600000001, 44.63628]\n"
     ]
    }
   ],
   "source": [
    "q = 0\n",
    "M = list()\n",
    "for index, item in DataFrame2.iterrows():\n",
    "    row, col = item\n",
    "#     print(row, col)\n",
    "    l = [row, col]\n",
    "#     print(l)\n",
    "    M.append(l)\n",
    "    q = q + 1\n",
    "    if q > 3:\n",
    "        break\n",
    "print(M)\n",
    "for item in M:\n",
    "    print(item)"
   ]
  },
  {
   "cell_type": "code",
   "execution_count": 82,
   "metadata": {},
   "outputs": [
    {
     "name": "stdout",
     "output_type": "stream",
     "text": [
      "-123.25669099999999 44.587662\n",
      "b'{\\r\\n\\t\"TransactionId\" : \"5170527a-469f-4f06-a3e7-ee454a66b981\",\\r\\n\\t\"Version\"   : \"4.01\",\\r\\n\\t\"QueryStatusCode\" : \"Success\",\\r\\n\\t\"TimeTaken\" : \"0\",\\r\\n\\t\"Exception\" : \"\",\\r\\n\\t\"ErrorMessage\" : \"\",\\r\\n\\t\"StreetAddresses\" : \\r\\n\\t[\\r\\n\\t{\\r\\n\\t\\t\"TransactionId\" : \"5170527a-469f-4f06-a3e7-ee454a66b981\",\\r\\n\\t\\t\"Version\"   : \"4.01\",\\r\\n\\t\\t\"QueryStatusCode\" : \"Success\",\\r\\n\\t\\t\"TimeTaken\" : \"0\",\\r\\n\\t\\t\"Exception\" : \"\",\\r\\n\\t\\t\"ErrorMessage\" : \"\",\\r\\n\\t\\t\"APN\" : \"11526AD02202\",\\r\\n\\t\\t\"StreetAddress\" : \"922 NW Circle Blvd\",\\r\\n\\t\\t\"City\" : \"Corvallis\",\\r\\n\\t\\t\"State\" : \"OR\",\\r\\n\\t\\t\"Zip\" : \"97330\",\\r\\n\\t\\t\"ZipPlus4\" : \"1410\"\\r\\n\\t}\\r\\n\\t]\\r\\n}\\r\\n\\r\\n'\n",
      "\\r\\n\\t\"ErrorMessage\" : \"\"\n"
     ]
    },
    {
     "data": {
      "text/plain": [
       "'922 NW Circle Blvd'"
      ]
     },
     "execution_count": 82,
     "metadata": {},
     "output_type": "execute_result"
    }
   ],
   "source": [
    "n = 0\n",
    "for i,row in DataFrame2.iterrows():\n",
    "    lon, lat = row\n",
    "    web_input = {'lon':str(lon), \n",
    "                  'lat':str(lat), \n",
    "                  'state':\"or\", \n",
    "                  'apikey':\"06b0930203314ecc90082f30a9e65753\", \n",
    "                 'format':\"json\",\n",
    "                 'notStore':\"false\",\n",
    "                 'includeHeader':\"false\",\n",
    "                 'version':\"4.10\"}\n",
    "    website = requests.get('https://geoservices.tamu.edu/Services/ReverseGeocoding/WebService/v04_01/Rest/?',\n",
    "                           params=web_input)\n",
    "    \n",
    "    print(lon,lat)\n",
    "    print(website.content)\n",
    "    json_read = json.loads(website.content)\n",
    "    l = str(website.content).split(',')\n",
    "    print(str(website.content).split(',')[5])\n",
    "    \n",
    "    n = n + 1\n",
    "    if n > 0:\n",
    "        break\n",
    "    \n",
    "json_read['StreetAddresses'][0]['StreetAddress']"
   ]
  },
  {
   "cell_type": "code",
   "execution_count": 120,
   "metadata": {},
   "outputs": [],
   "source": [
    "turn_pts = list()\n",
    "def binarySearch(df):\n",
    "    print()\n",
    "    print(\"start a new bs\")\n",
    "    df = df.reset_index(drop=True)\n",
    "    start = df.index[0]\n",
    "    end = df.index[-1]\n",
    "    mid = math.ceil((start + end) / 2)\n",
    "    print(mid)\n",
    "    lon = df.iloc[start][0]\n",
    "    lat = df.iloc[start][1]\n",
    "    # find start point address \n",
    "    web_input = {'lon':str(lon), \n",
    "                  'lat':str(lat), \n",
    "                  'state':\"or\", \n",
    "                  'apikey':\"06b0930203314ecc90082f30a9e65753\", \n",
    "                 'format':\"json\",\n",
    "                 'notStore':\"false\",\n",
    "                 'version':\"4.10\"}\n",
    "    website = requests.get('https://geoservices.tamu.edu/Services/ReverseGeocoding/WebService/v04_01/Rest/?',\n",
    "                           params=web_input)\n",
    "    json_read = json.loads(website.content)\n",
    "    print(json_read)\n",
    "    start_address = str(json_read['StreetAddresses'][0]['StreetAddress'])\n",
    "    # find mid point address \n",
    "    lon = df.iloc[mid][0]\n",
    "    lat = df.iloc[mid][1]\n",
    "    print(lon, lat)\n",
    "    web_input = {'lon':str(lon), \n",
    "                  'lat':str(lat), \n",
    "                  'state':\"or\", \n",
    "                  'apikey':\"06b0930203314ecc90082f30a9e65753\", \n",
    "                 'format':\"json\",\n",
    "                 'notStore':\"false\",\n",
    "                 'version':\"4.10\"}\n",
    "    website = requests.get('https://geoservices.tamu.edu/Services/ReverseGeocoding/WebService/v04_01/Rest/?',\n",
    "                           params=web_input)\n",
    "    json_read2 = json.loads(website.content)\n",
    "    print(json_read2)\n",
    "    mid_address = str(json_read['StreetAddresses'][0]['StreetAddress'])\n",
    "    # find end point address \n",
    "    lon = df.iloc[end][0]\n",
    "    lat = df.iloc[end][1]\n",
    "    web_input = {'lon':str(lon), \n",
    "                  'lat':str(lat), \n",
    "                  'state':\"or\", \n",
    "                  'apikey':\"06b0930203314ecc90082f30a9e65753\", \n",
    "                 'format':\"json\",\n",
    "                 'notStore':\"false\",\n",
    "                 'version':\"4.10\"}\n",
    "    website = requests.get('https://geoservices.tamu.edu/Services/ReverseGeocoding/WebService/v04_01/Rest/?',\n",
    "                           params=web_input)\n",
    "    json_read3 = json.loads(website.content)\n",
    "    end_address = str(json_read['StreetAddresses'][0]['StreetAddress'])\n",
    "    # base case\n",
    "    if len(df) <= 2:\n",
    "        for index, item in df.iterrows():\n",
    "            row, col = item\n",
    "            l = [row, col]\n",
    "            turn_pts.append(l)\n",
    "        return None\n",
    "    \n",
    "    elif start_address == mid_address and mid_address == end_address:\n",
    "        if end - start < math.ceil(len(df) / 100):  # \n",
    "            return None\n",
    "        else:\n",
    "            binarySearch(df.iloc[start:mid])\n",
    "            binarySearch(df.iloc[mid:end])\n",
    "            \n",
    "    else:\n",
    "        binarySearch(df.iloc[start:mid])\n",
    "        binarySearch(df.iloc[mid:end])"
   ]
  },
  {
   "cell_type": "code",
   "execution_count": 121,
   "metadata": {},
   "outputs": [
    {
     "name": "stdout",
     "output_type": "stream",
     "text": [
      "12\n",
      "{'TransactionId': '4ad70de6-9314-40dc-b391-6411cf220aac', 'Version': '4.01', 'QueryStatusCode': 'Success', 'TimeTaken': '15.6298', 'Exception': '', 'ErrorMessage': '', 'StreetAddresses': [{'TransactionId': '4ad70de6-9314-40dc-b391-6411cf220aac', 'Version': '4.01', 'QueryStatusCode': 'Success', 'TimeTaken': '0', 'Exception': '', 'ErrorMessage': '', 'APN': '11526AD02202', 'StreetAddress': '922 NW Circle Blvd', 'City': 'Corvallis', 'State': 'OR', 'Zip': '97330', 'ZipPlus4': '1410'}]}\n",
      "-123.235222 44.845428000000005\n",
      "{'TransactionId': 'cf0d4622-6301-450d-88e7-1fbcda8b7bb6', 'Version': '4.01', 'QueryStatusCode': 'Failure', 'TimeTaken': '15.6242', 'Exception': 'System.Exception: Exception occurred GetNearestAddressRecordAsDataTable: Error in ExecuteDataTable: Error in ExecuteDataSet: Index &#39;idx_geog&#39; on table &#39;or&#39; (specified in the FROM clause) does not exist. ---&gt; System.Exception: Error in ExecuteDataTable: Error in ExecuteDataSet: Index &#39;idx_geog&#39; on table &#39;or&#39; (specified in the FROM clause) does not exist. ---&gt; System.Exception: Error in ExecuteDataSet: Index &#39;idx_geog&#39; on table &#39;or&#39; (specified in the FROM clause) does not exist. ---&gt; System.Data.SqlClient.SqlException: Index &#39;idx_geog&#39; on table &#39;or&#39; (specified in the FROM clause) does not exist.\\\\r\\\\n   at System.Data.SqlClient.SqlConnection.OnError(SqlException exception, Boolean breakConnection, Action`1 wrapCloseInAction)\\\\r\\\\n   at System.Data.SqlClient.TdsParser.ThrowExceptionAndWarning(TdsParserStateObject stateObj, Boolean callerHasConnectionLock, Boolean asyncClose)\\\\r\\\\n   at System.Data.SqlClient.TdsParser.TryRun(RunBehavior runBehavior, SqlCommand cmdHandler, SqlDataReader dataStream, BulkCopySimpleResultSet bulkCopyHandler, TdsParserStateObject stateObj, Boolean&amp; dataReady)\\\\r\\\\n   at System.Data.SqlClient.SqlDataReader.TryConsumeMetaData()\\\\r\\\\n   at System.Data.SqlClient.SqlDataReader.get_MetaData()\\\\r\\\\n   at System.Data.SqlClient.SqlCommand.FinishExecuteReader(SqlDataReader ds, RunBehavior runBehavior, String resetOptionsString, Boolean isInternal, Boolean forDescribeParameterEncryption, Boolean shouldCacheForAlwaysEncrypted)\\\\r\\\\n   at System.Data.SqlClient.SqlCommand.RunExecuteReaderTds(CommandBehavior cmdBehavior, RunBehavior runBehavior, Boolean returnStream, Boolean async, Int32 timeout, Task&amp; task, Boolean asyncWrite, Boolean inRetry, SqlDataReader ds, Boolean describeParameterEncryptionRequest)\\\\r\\\\n   at System.Data.SqlClient.SqlCommand.RunExecuteReader(CommandBehavior cmdBehavior, RunBehavior runBehavior, Boolean returnStream, String method, TaskCompletionSource`1 completion, Int32 timeout, Task&amp; task, Boolean&amp; usedCache, Boolean asyncWrite, Boolean inRetry)\\\\r\\\\n   at System.Data.SqlClient.SqlCommand.RunExecuteReader(CommandBehavior cmdBehavior, RunBehavior runBehavior, Boolean returnStream, String method)\\\\r\\\\n   at System.Data.SqlClient.SqlCommand.ExecuteReader(CommandBehavior behavior, String method)\\\\r\\\\n   at System.Data.Common.DbDataAdapter.FillInternal(DataSet dataset, DataTable[] datatables, Int32 startRecord, Int32 maxRecords, String srcTable, IDbCommand command, CommandBehavior behavior)\\\\r\\\\n   at System.Data.Common.DbDataAdapter.Fill(DataSet dataSet, Int32 startRecord, Int32 maxRecords, String srcTable, IDbCommand command, CommandBehavior behavior)\\\\r\\\\n   at System.Data.Common.DbDataAdapter.Fill(DataSet dataSet)\\\\r\\\\n   at USC.GISResearchLab.Common.Databases.QueryManagers.QueryManager.ExecuteDataSet(CommandType commandType, String commandText, Int32 commandTimeout, Boolean shouldOpenAndClose) in C:\\\\DevSource\\\\TAMU\\\\GeoInnovation\\\\Common.Data.Databases\\\\Src\\\\Main\\\\QueryManagers\\\\QueryManager.cs:line 853\\\\r\\\\n   --- End of inner exception stack trace ---\\\\r\\\\n   at USC.GISResearchLab.Common.Databases.QueryManagers.QueryManager.ExecuteDataSet(CommandType commandType, String commandText, Int32 commandTimeout, Boolean shouldOpenAndClose) in C:\\\\DevSource\\\\TAMU\\\\GeoInnovation\\\\Common.Data.Databases\\\\Src\\\\Main\\\\QueryManagers\\\\QueryManager.cs:line 874\\\\r\\\\n   at USC.GISResearchLab.Common.Databases.QueryManagers.QueryManager.ExecuteDataTable(CommandType commandType, String commandText, Int32 commnadTimeout, Boolean shouldOpenAndClose) in C:\\\\DevSource\\\\TAMU\\\\GeoInnovation\\\\Common.Data.Databases\\\\Src\\\\Main\\\\QueryManagers\\\\QueryManager.cs:line 909\\\\r\\\\n   --- End of inner exception stack trace ---\\\\r\\\\n   at USC.GISResearchLab.Common.Databases.QueryManagers.QueryManager.ExecuteDataTable(CommandType commandType, String commandText, Int32 commnadTimeout, Boolean shouldOpenAndClose) in C:\\\\DevSource\\\\TAMU\\\\GeoInnovation\\\\Common.Data.Databases\\\\Src\\\\Main\\\\QueryManagers\\\\QueryManager.cs:line 929\\\\r\\\\n   at USC.GISResearchLab.Common.ReverseGeocoding.Tiger2010.PointIntersecters.OpenAddressReverseGeocoder.GetNearestAddressRecordAsDataTable(Double longitude, Double latitude, String state, Double distanceThreshold) in C:\\\\DevSource\\\\TAMU\\\\GeoInnovation\\\\ReverseGeocoding.Core\\\\src\\\\Main\\\\OpenAddressParcels\\\\PointIntersecters\\\\OpenAddressReverseGeocoder.cs:line 332\\\\r\\\\n   --- End of inner exception stack trace ---\\\\r\\\\n   at USC.GISResearchLab.Common.ReverseGeocoding.Tiger2010.PointIntersecters.OpenAddressReverseGeocoder.GetNearestAddressRecordAsDataTable(Double longitude, Double latitude, String state, Double distanceThreshold) in C:\\\\DevSource\\\\TAMU\\\\GeoInnovation\\\\ReverseGeocoding.Core\\\\src\\\\Main\\\\OpenAddressParcels\\\\PointIntersecters\\\\OpenAddressReverseGeocoder.cs:line 338\\\\r\\\\n   at USC.GISResearchLab.Common.ReverseGeocoding.Tiger2010.PointIntersecters.OpenAddressReverseGeocoder.GetRecord(Double longitude, Double latitude, String state, Double version) in C:\\\\DevSource\\\\TAMU\\\\GeoInnovation\\\\ReverseGeocoding.Core\\\\src\\\\Main\\\\OpenAddressParcels\\\\PointIntersecters\\\\OpenAddressReverseGeocoder.cs:line 398', 'ErrorMessage': 'Exception occurred GetNearestAddressRecordAsDataTable: Error in ExecuteDataTable: Error in ExecuteDataSet: Index &#39;idx_geog&#39; on table &#39;or&#39; (specified in the FROM clause) does not exist.', 'StreetAddresses': []}\n",
      "6\n",
      "{'TransactionId': 'bd18c1b6-c38c-44ac-97c4-630271866e94', 'Version': '4.01', 'QueryStatusCode': 'Success', 'TimeTaken': '0', 'Exception': '', 'ErrorMessage': '', 'StreetAddresses': [{'TransactionId': 'bd18c1b6-c38c-44ac-97c4-630271866e94', 'Version': '4.01', 'QueryStatusCode': 'Success', 'TimeTaken': '0', 'Exception': '', 'ErrorMessage': '', 'APN': '11526AD02202', 'StreetAddress': '922 NW Circle Blvd', 'City': 'Corvallis', 'State': 'OR', 'Zip': '97330', 'ZipPlus4': '1410'}]}\n",
      "-123.27467299999999 44.699368\n",
      "{'TransactionId': '87fe0f86-6181-4a0a-b319-46eadaeedaa1', 'Version': '4.01', 'QueryStatusCode': 'Success', 'TimeTaken': '62.4998', 'Exception': '', 'ErrorMessage': '', 'StreetAddresses': [{'TransactionId': '87fe0f86-6181-4a0a-b319-46eadaeedaa1', 'Version': '4.01', 'QueryStatusCode': 'Success', 'TimeTaken': '62.4998', 'Exception': '', 'ErrorMessage': '', 'APN': '10514B000300', 'StreetAddress': '38894 Trillium Ln', 'City': 'Corvallis', 'State': 'OR', 'Zip': '97330', 'ZipPlus4': '9366'}]}\n",
      "3\n",
      "{'TransactionId': '7a4a9616-34c6-48de-bc34-3734757c7907', 'Version': '4.01', 'QueryStatusCode': 'Success', 'TimeTaken': '0', 'Exception': '', 'ErrorMessage': '', 'StreetAddresses': [{'TransactionId': '7a4a9616-34c6-48de-bc34-3734757c7907', 'Version': '4.01', 'QueryStatusCode': 'Success', 'TimeTaken': '0', 'Exception': '', 'ErrorMessage': '', 'APN': '11526AD02202', 'StreetAddress': '922 NW Circle Blvd', 'City': 'Corvallis', 'State': 'OR', 'Zip': '97330', 'ZipPlus4': '1410'}]}\n",
      "-123.29558600000001 44.63628\n",
      "{'TransactionId': 'ee79a1eb-e43c-4211-864b-1d71f2ca28cf', 'Version': '4.01', 'QueryStatusCode': 'Success', 'TimeTaken': '546.8696', 'Exception': '', 'ErrorMessage': '', 'StreetAddresses': [{'TransactionId': 'ee79a1eb-e43c-4211-864b-1d71f2ca28cf', 'Version': '4.01', 'QueryStatusCode': 'Success', 'TimeTaken': '531.2526', 'Exception': '', 'ErrorMessage': '', 'APN': '11510B003500', 'StreetAddress': '2471 NW Michelle Dr', 'City': 'Corvallis', 'State': 'OR', 'Zip': '97330', 'ZipPlus4': '9267'}]}\n",
      "1\n",
      "{'TransactionId': '5820c0c8-c548-4521-94d1-20d8ffd6f54b', 'Version': '4.01', 'QueryStatusCode': 'Success', 'TimeTaken': '15.6215', 'Exception': '', 'ErrorMessage': '', 'StreetAddresses': [{'TransactionId': '5820c0c8-c548-4521-94d1-20d8ffd6f54b', 'Version': '4.01', 'QueryStatusCode': 'Success', 'TimeTaken': '0', 'Exception': '', 'ErrorMessage': '', 'APN': '11526AD02202', 'StreetAddress': '922 NW Circle Blvd', 'City': 'Corvallis', 'State': 'OR', 'Zip': '97330', 'ZipPlus4': '1410'}]}\n",
      "-123.264595 44.612834899999996\n"
     ]
    },
    {
     "name": "stdout",
     "output_type": "stream",
     "text": [
      "{'TransactionId': 'ecffba4b-d957-44f6-b91d-ca5cff9cd35a', 'Version': '4.01', 'QueryStatusCode': 'Success', 'TimeTaken': '249.9951', 'Exception': '', 'ErrorMessage': '', 'StreetAddresses': [{'TransactionId': 'ecffba4b-d957-44f6-b91d-ca5cff9cd35a', 'Version': '4.01', 'QueryStatusCode': 'Success', 'TimeTaken': '234.3768', 'Exception': '', 'ErrorMessage': '', 'APN': '115140001200', 'StreetAddress': '4160 NW Crescent Valley Dr', 'City': 'Corvallis', 'State': 'OR', 'Zip': '97330', 'ZipPlus4': '9714'}]}\n",
      "0\n",
      "{'TransactionId': 'd5c19ebe-c30b-4c41-bb0b-c2224dd2bb39', 'Version': '4.01', 'QueryStatusCode': 'Success', 'TimeTaken': '0', 'Exception': '', 'ErrorMessage': '', 'StreetAddresses': [{'TransactionId': 'd5c19ebe-c30b-4c41-bb0b-c2224dd2bb39', 'Version': '4.01', 'QueryStatusCode': 'Success', 'TimeTaken': '0', 'Exception': '', 'ErrorMessage': '', 'APN': '11526AD02202', 'StreetAddress': '922 NW Circle Blvd', 'City': 'Corvallis', 'State': 'OR', 'Zip': '97330', 'ZipPlus4': '1410'}]}\n",
      "-123.25669099999999 44.587662\n",
      "{'TransactionId': '617b984d-90ab-488d-9fb6-28bbbf8f6ff6', 'Version': '4.01', 'QueryStatusCode': 'Success', 'TimeTaken': '0', 'Exception': '', 'ErrorMessage': '', 'StreetAddresses': [{'TransactionId': '617b984d-90ab-488d-9fb6-28bbbf8f6ff6', 'Version': '4.01', 'QueryStatusCode': 'Success', 'TimeTaken': '0', 'Exception': '', 'ErrorMessage': '', 'APN': '11526AD02202', 'StreetAddress': '922 NW Circle Blvd', 'City': 'Corvallis', 'State': 'OR', 'Zip': '97330', 'ZipPlus4': '1410'}]}\n",
      "0\n",
      "{'TransactionId': '4e3a2836-5b4b-4618-9aba-75111f6ee9a4', 'Version': '4.01', 'QueryStatusCode': 'Success', 'TimeTaken': '15.6193', 'Exception': '', 'ErrorMessage': '', 'StreetAddresses': [{'TransactionId': '4e3a2836-5b4b-4618-9aba-75111f6ee9a4', 'Version': '4.01', 'QueryStatusCode': 'Success', 'TimeTaken': '0', 'Exception': '', 'ErrorMessage': '', 'APN': '115140001200', 'StreetAddress': '4160 NW Crescent Valley Dr', 'City': 'Corvallis', 'State': 'OR', 'Zip': '97330', 'ZipPlus4': '9714'}]}\n",
      "-123.264595 44.612834899999996\n",
      "{'TransactionId': '00c7cc02-ff2d-4618-85f3-63913607625c', 'Version': '4.01', 'QueryStatusCode': 'Success', 'TimeTaken': '0', 'Exception': '', 'ErrorMessage': '', 'StreetAddresses': [{'TransactionId': '00c7cc02-ff2d-4618-85f3-63913607625c', 'Version': '4.01', 'QueryStatusCode': 'Success', 'TimeTaken': '0', 'Exception': '', 'ErrorMessage': '', 'APN': '115140001200', 'StreetAddress': '4160 NW Crescent Valley Dr', 'City': 'Corvallis', 'State': 'OR', 'Zip': '97330', 'ZipPlus4': '9714'}]}\n",
      "1\n",
      "{'TransactionId': '1b441df2-b51f-444d-ac28-d58c8bf5e17c', 'Version': '4.01', 'QueryStatusCode': 'Success', 'TimeTaken': '0', 'Exception': '', 'ErrorMessage': '', 'StreetAddresses': [{'TransactionId': '1b441df2-b51f-444d-ac28-d58c8bf5e17c', 'Version': '4.01', 'QueryStatusCode': 'Success', 'TimeTaken': '0', 'Exception': '', 'ErrorMessage': '', 'APN': '11510B003500', 'StreetAddress': '2471 NW Michelle Dr', 'City': 'Corvallis', 'State': 'OR', 'Zip': '97330', 'ZipPlus4': '9267'}]}\n",
      "-123.27856399999999 44.662323\n",
      "{'TransactionId': '4fa09357-d1fd-491f-b265-d4019783f110', 'Version': '4.01', 'QueryStatusCode': 'Success', 'TimeTaken': '15.602', 'Exception': '', 'ErrorMessage': '', 'StreetAddresses': [{'TransactionId': '4fa09357-d1fd-491f-b265-d4019783f110', 'Version': '4.01', 'QueryStatusCode': 'Success', 'TimeTaken': '15.602', 'Exception': '', 'ErrorMessage': '', 'APN': '10534A001100', 'StreetAddress': '37524 Soap Creek Rd', 'City': 'Corvallis', 'State': 'OR', 'Zip': '97330', 'ZipPlus4': '9832'}]}\n",
      "2\n",
      "{'TransactionId': '7feb88e1-9ec3-4b9d-bc74-5a6c4ebaf62e', 'Version': '4.01', 'QueryStatusCode': 'Success', 'TimeTaken': '0', 'Exception': '', 'ErrorMessage': '', 'StreetAddresses': [{'TransactionId': '7feb88e1-9ec3-4b9d-bc74-5a6c4ebaf62e', 'Version': '4.01', 'QueryStatusCode': 'Success', 'TimeTaken': '0', 'Exception': '', 'ErrorMessage': '', 'APN': '10514B000300', 'StreetAddress': '38894 Trillium Ln', 'City': 'Corvallis', 'State': 'OR', 'Zip': '97330', 'ZipPlus4': '9366'}]}\n",
      "-123.27114099999999 44.742973\n",
      "{'TransactionId': 'a63b6e0c-5529-4627-8959-152672bc12f1', 'Version': '4.01', 'QueryStatusCode': 'Success', 'TimeTaken': '265.619', 'Exception': '', 'ErrorMessage': '', 'StreetAddresses': [{'TransactionId': 'a63b6e0c-5529-4627-8959-152672bc12f1', 'Version': '4.01', 'QueryStatusCode': 'Success', 'TimeTaken': '249.9991', 'Exception': '', 'ErrorMessage': '', 'APN': '953500  200', 'StreetAddress': '11665 AIRLIE RD', 'City': 'Independence', 'State': 'OR', 'Zip': '97361', 'ZipPlus4': '9621'}]}\n",
      "1\n",
      "{'TransactionId': 'c3e454a4-6ba8-4732-b0b0-885c21476a92', 'Version': '4.01', 'QueryStatusCode': 'Success', 'TimeTaken': '15.6246', 'Exception': '', 'ErrorMessage': '', 'StreetAddresses': [{'TransactionId': 'c3e454a4-6ba8-4732-b0b0-885c21476a92', 'Version': '4.01', 'QueryStatusCode': 'Success', 'TimeTaken': '0', 'Exception': '', 'ErrorMessage': '', 'APN': '10514B000300', 'StreetAddress': '38894 Trillium Ln', 'City': 'Corvallis', 'State': 'OR', 'Zip': '97330', 'ZipPlus4': '9366'}]}\n",
      "-123.304802 44.726227\n",
      "{'TransactionId': 'c63b352b-9be1-4825-abb7-f5085c708953', 'Version': '4.01', 'QueryStatusCode': 'Success', 'TimeTaken': '93.7471', 'Exception': '', 'ErrorMessage': '', 'StreetAddresses': [{'TransactionId': 'c63b352b-9be1-4825-abb7-f5085c708953', 'Version': '4.01', 'QueryStatusCode': 'Success', 'TimeTaken': '31.2497', 'Exception': '', 'ErrorMessage': '', 'APN': '105 400  301', 'StreetAddress': '14105 BERRY CREEK RD', 'City': 'Independence', 'State': 'OR', 'Zip': '97361', 'ZipPlus4': '9736'}]}\n",
      "1\n",
      "{'TransactionId': 'adaa5d5e-2395-48ca-bf32-9b2daf570fbd', 'Version': '4.01', 'QueryStatusCode': 'Success', 'TimeTaken': '15.6243', 'Exception': '', 'ErrorMessage': '', 'StreetAddresses': [{'TransactionId': 'adaa5d5e-2395-48ca-bf32-9b2daf570fbd', 'Version': '4.01', 'QueryStatusCode': 'Success', 'TimeTaken': '0', 'Exception': '', 'ErrorMessage': '', 'APN': '953500  200', 'StreetAddress': '11665 AIRLIE RD', 'City': 'Independence', 'State': 'OR', 'Zip': '97361', 'ZipPlus4': '9621'}]}\n",
      "-123.223145 44.746567\n",
      "{'TransactionId': '141bf825-b14f-4ea6-abcd-b5ab5fc10e02', 'Version': '4.01', 'QueryStatusCode': 'Success', 'TimeTaken': '93.7481', 'Exception': '', 'ErrorMessage': '', 'StreetAddresses': [{'TransactionId': '141bf825-b14f-4ea6-abcd-b5ab5fc10e02', 'Version': '4.01', 'QueryStatusCode': 'Success', 'TimeTaken': '93.7481', 'Exception': '', 'ErrorMessage': '', 'APN': '943100  100', 'StreetAddress': '12680 S PACIFIC HWY W', 'City': 'Independence', 'State': 'OR', 'Zip': '97361', 'ZipPlus4': '9753'}]}\n",
      "6\n",
      "{'TransactionId': 'a1d5bcab-6e67-450b-8719-bd4f36deb54b', 'Version': '4.01', 'QueryStatusCode': 'Failure', 'TimeTaken': '15.6271', 'Exception': 'System.Exception: Exception occurred GetNearestAddressRecordAsDataTable: Error in ExecuteDataTable: Error in ExecuteDataSet: Index &#39;idx_geog&#39; on table &#39;or&#39; (specified in the FROM clause) does not exist. ---&gt; System.Exception: Error in ExecuteDataTable: Error in ExecuteDataSet: Index &#39;idx_geog&#39; on table &#39;or&#39; (specified in the FROM clause) does not exist. ---&gt; System.Exception: Error in ExecuteDataSet: Index &#39;idx_geog&#39; on table &#39;or&#39; (specified in the FROM clause) does not exist. ---&gt; System.Data.SqlClient.SqlException: Index &#39;idx_geog&#39; on table &#39;or&#39; (specified in the FROM clause) does not exist.\\\\r\\\\n   at System.Data.SqlClient.SqlConnection.OnError(SqlException exception, Boolean breakConnection, Action`1 wrapCloseInAction)\\\\r\\\\n   at System.Data.SqlClient.TdsParser.ThrowExceptionAndWarning(TdsParserStateObject stateObj, Boolean callerHasConnectionLock, Boolean asyncClose)\\\\r\\\\n   at System.Data.SqlClient.TdsParser.TryRun(RunBehavior runBehavior, SqlCommand cmdHandler, SqlDataReader dataStream, BulkCopySimpleResultSet bulkCopyHandler, TdsParserStateObject stateObj, Boolean&amp; dataReady)\\\\r\\\\n   at System.Data.SqlClient.SqlDataReader.TryConsumeMetaData()\\\\r\\\\n   at System.Data.SqlClient.SqlDataReader.get_MetaData()\\\\r\\\\n   at System.Data.SqlClient.SqlCommand.FinishExecuteReader(SqlDataReader ds, RunBehavior runBehavior, String resetOptionsString, Boolean isInternal, Boolean forDescribeParameterEncryption, Boolean shouldCacheForAlwaysEncrypted)\\\\r\\\\n   at System.Data.SqlClient.SqlCommand.RunExecuteReaderTds(CommandBehavior cmdBehavior, RunBehavior runBehavior, Boolean returnStream, Boolean async, Int32 timeout, Task&amp; task, Boolean asyncWrite, Boolean inRetry, SqlDataReader ds, Boolean describeParameterEncryptionRequest)\\\\r\\\\n   at System.Data.SqlClient.SqlCommand.RunExecuteReader(CommandBehavior cmdBehavior, RunBehavior runBehavior, Boolean returnStream, String method, TaskCompletionSource`1 completion, Int32 timeout, Task&amp; task, Boolean&amp; usedCache, Boolean asyncWrite, Boolean inRetry)\\\\r\\\\n   at System.Data.SqlClient.SqlCommand.RunExecuteReader(CommandBehavior cmdBehavior, RunBehavior runBehavior, Boolean returnStream, String method)\\\\r\\\\n   at System.Data.SqlClient.SqlCommand.ExecuteReader(CommandBehavior behavior, String method)\\\\r\\\\n   at System.Data.Common.DbDataAdapter.FillInternal(DataSet dataset, DataTable[] datatables, Int32 startRecord, Int32 maxRecords, String srcTable, IDbCommand command, CommandBehavior behavior)\\\\r\\\\n   at System.Data.Common.DbDataAdapter.Fill(DataSet dataSet, Int32 startRecord, Int32 maxRecords, String srcTable, IDbCommand command, CommandBehavior behavior)\\\\r\\\\n   at System.Data.Common.DbDataAdapter.Fill(DataSet dataSet)\\\\r\\\\n   at USC.GISResearchLab.Common.Databases.QueryManagers.QueryManager.ExecuteDataSet(CommandType commandType, String commandText, Int32 commandTimeout, Boolean shouldOpenAndClose) in C:\\\\DevSource\\\\TAMU\\\\GeoInnovation\\\\Common.Data.Databases\\\\Src\\\\Main\\\\QueryManagers\\\\QueryManager.cs:line 853\\\\r\\\\n   --- End of inner exception stack trace ---\\\\r\\\\n   at USC.GISResearchLab.Common.Databases.QueryManagers.QueryManager.ExecuteDataSet(CommandType commandType, String commandText, Int32 commandTimeout, Boolean shouldOpenAndClose) in C:\\\\DevSource\\\\TAMU\\\\GeoInnovation\\\\Common.Data.Databases\\\\Src\\\\Main\\\\QueryManagers\\\\QueryManager.cs:line 874\\\\r\\\\n   at USC.GISResearchLab.Common.Databases.QueryManagers.QueryManager.ExecuteDataTable(CommandType commandType, String commandText, Int32 commnadTimeout, Boolean shouldOpenAndClose) in C:\\\\DevSource\\\\TAMU\\\\GeoInnovation\\\\Common.Data.Databases\\\\Src\\\\Main\\\\QueryManagers\\\\QueryManager.cs:line 909\\\\r\\\\n   --- End of inner exception stack trace ---\\\\r\\\\n   at USC.GISResearchLab.Common.Databases.QueryManagers.QueryManager.ExecuteDataTable(CommandType commandType, String commandText, Int32 commnadTimeout, Boolean shouldOpenAndClose) in C:\\\\DevSource\\\\TAMU\\\\GeoInnovation\\\\Common.Data.Databases\\\\Src\\\\Main\\\\QueryManagers\\\\QueryManager.cs:line 929\\\\r\\\\n   at USC.GISResearchLab.Common.ReverseGeocoding.Tiger2010.PointIntersecters.OpenAddressReverseGeocoder.GetNearestAddressRecordAsDataTable(Double longitude, Double latitude, String state, Double distanceThreshold) in C:\\\\DevSource\\\\TAMU\\\\GeoInnovation\\\\ReverseGeocoding.Core\\\\src\\\\Main\\\\OpenAddressParcels\\\\PointIntersecters\\\\OpenAddressReverseGeocoder.cs:line 332\\\\r\\\\n   --- End of inner exception stack trace ---\\\\r\\\\n   at USC.GISResearchLab.Common.ReverseGeocoding.Tiger2010.PointIntersecters.OpenAddressReverseGeocoder.GetNearestAddressRecordAsDataTable(Double longitude, Double latitude, String state, Double distanceThreshold) in C:\\\\DevSource\\\\TAMU\\\\GeoInnovation\\\\ReverseGeocoding.Core\\\\src\\\\Main\\\\OpenAddressParcels\\\\PointIntersecters\\\\OpenAddressReverseGeocoder.cs:line 338\\\\r\\\\n   at USC.GISResearchLab.Common.ReverseGeocoding.Tiger2010.PointIntersecters.OpenAddressReverseGeocoder.GetRecord(Double longitude, Double latitude, String state, Double version) in C:\\\\DevSource\\\\TAMU\\\\GeoInnovation\\\\ReverseGeocoding.Core\\\\src\\\\Main\\\\OpenAddressParcels\\\\PointIntersecters\\\\OpenAddressReverseGeocoder.cs:line 398', 'ErrorMessage': 'Exception occurred GetNearestAddressRecordAsDataTable: Error in ExecuteDataTable: Error in ExecuteDataSet: Index &#39;idx_geog&#39; on table &#39;or&#39; (specified in the FROM clause) does not exist.', 'StreetAddresses': []}\n"
     ]
    },
    {
     "ename": "IndexError",
     "evalue": "list index out of range",
     "output_type": "error",
     "traceback": [
      "\u001b[0;31m---------------------------------------------------------------------------\u001b[0m",
      "\u001b[0;31mIndexError\u001b[0m                                Traceback (most recent call last)",
      "\u001b[0;32m<ipython-input-121-0faf59881b7e>\u001b[0m in \u001b[0;36m<module>\u001b[0;34m\u001b[0m\n\u001b[0;32m----> 1\u001b[0;31m \u001b[0mbinarySearch\u001b[0m\u001b[0;34m(\u001b[0m\u001b[0mDataFrame2\u001b[0m\u001b[0;34m)\u001b[0m\u001b[0;34m\u001b[0m\u001b[0;34m\u001b[0m\u001b[0m\n\u001b[0m\u001b[1;32m      2\u001b[0m \u001b[0mprint\u001b[0m\u001b[0;34m(\u001b[0m\u001b[0mturn_pts\u001b[0m\u001b[0;34m)\u001b[0m\u001b[0;34m\u001b[0m\u001b[0;34m\u001b[0m\u001b[0m\n",
      "\u001b[0;32m<ipython-input-120-fa035ffee8d6>\u001b[0m in \u001b[0;36mbinarySearch\u001b[0;34m(df)\u001b[0m\n\u001b[1;32m     64\u001b[0m         \u001b[0;32melse\u001b[0m\u001b[0;34m:\u001b[0m\u001b[0;34m\u001b[0m\u001b[0;34m\u001b[0m\u001b[0m\n\u001b[1;32m     65\u001b[0m             \u001b[0mbinarySearch\u001b[0m\u001b[0;34m(\u001b[0m\u001b[0mdf\u001b[0m\u001b[0;34m.\u001b[0m\u001b[0miloc\u001b[0m\u001b[0;34m[\u001b[0m\u001b[0mstart\u001b[0m\u001b[0;34m:\u001b[0m\u001b[0mmid\u001b[0m\u001b[0;34m]\u001b[0m\u001b[0;34m)\u001b[0m\u001b[0;34m\u001b[0m\u001b[0;34m\u001b[0m\u001b[0m\n\u001b[0;32m---> 66\u001b[0;31m             \u001b[0mbinarySearch\u001b[0m\u001b[0;34m(\u001b[0m\u001b[0mdf\u001b[0m\u001b[0;34m.\u001b[0m\u001b[0miloc\u001b[0m\u001b[0;34m[\u001b[0m\u001b[0mmid\u001b[0m\u001b[0;34m:\u001b[0m\u001b[0mend\u001b[0m\u001b[0;34m]\u001b[0m\u001b[0;34m)\u001b[0m\u001b[0;34m\u001b[0m\u001b[0;34m\u001b[0m\u001b[0m\n\u001b[0m\u001b[1;32m     67\u001b[0m \u001b[0;34m\u001b[0m\u001b[0m\n\u001b[1;32m     68\u001b[0m     \u001b[0;32melse\u001b[0m\u001b[0;34m:\u001b[0m\u001b[0;34m\u001b[0m\u001b[0;34m\u001b[0m\u001b[0m\n",
      "\u001b[0;32m<ipython-input-120-fa035ffee8d6>\u001b[0m in \u001b[0;36mbinarySearch\u001b[0;34m(df)\u001b[0m\n\u001b[1;32m     20\u001b[0m     \u001b[0mjson_read\u001b[0m \u001b[0;34m=\u001b[0m \u001b[0mjson\u001b[0m\u001b[0;34m.\u001b[0m\u001b[0mloads\u001b[0m\u001b[0;34m(\u001b[0m\u001b[0mwebsite\u001b[0m\u001b[0;34m.\u001b[0m\u001b[0mcontent\u001b[0m\u001b[0;34m)\u001b[0m\u001b[0;34m\u001b[0m\u001b[0;34m\u001b[0m\u001b[0m\n\u001b[1;32m     21\u001b[0m     \u001b[0mprint\u001b[0m\u001b[0;34m(\u001b[0m\u001b[0mjson_read\u001b[0m\u001b[0;34m)\u001b[0m\u001b[0;34m\u001b[0m\u001b[0;34m\u001b[0m\u001b[0m\n\u001b[0;32m---> 22\u001b[0;31m     \u001b[0mstart_address\u001b[0m \u001b[0;34m=\u001b[0m \u001b[0mstr\u001b[0m\u001b[0;34m(\u001b[0m\u001b[0mjson_read\u001b[0m\u001b[0;34m[\u001b[0m\u001b[0;34m'StreetAddresses'\u001b[0m\u001b[0;34m]\u001b[0m\u001b[0;34m[\u001b[0m\u001b[0;36m0\u001b[0m\u001b[0;34m]\u001b[0m\u001b[0;34m[\u001b[0m\u001b[0;34m'StreetAddress'\u001b[0m\u001b[0;34m]\u001b[0m\u001b[0;34m)\u001b[0m\u001b[0;34m\u001b[0m\u001b[0;34m\u001b[0m\u001b[0m\n\u001b[0m\u001b[1;32m     23\u001b[0m     \u001b[0;31m# find mid point address\u001b[0m\u001b[0;34m\u001b[0m\u001b[0;34m\u001b[0m\u001b[0;34m\u001b[0m\u001b[0m\n\u001b[1;32m     24\u001b[0m     \u001b[0mlon\u001b[0m \u001b[0;34m=\u001b[0m \u001b[0mdf\u001b[0m\u001b[0;34m.\u001b[0m\u001b[0miloc\u001b[0m\u001b[0;34m[\u001b[0m\u001b[0mmid\u001b[0m\u001b[0;34m]\u001b[0m\u001b[0;34m[\u001b[0m\u001b[0;36m0\u001b[0m\u001b[0;34m]\u001b[0m\u001b[0;34m\u001b[0m\u001b[0;34m\u001b[0m\u001b[0m\n",
      "\u001b[0;31mIndexError\u001b[0m: list index out of range"
     ]
    }
   ],
   "source": [
    "binarySearch(DataFrame2)\n",
    "print(turn_pts)"
   ]
  },
  {
   "cell_type": "code",
   "execution_count": null,
   "metadata": {},
   "outputs": [],
   "source": []
  },
  {
   "cell_type": "code",
   "execution_count": null,
   "metadata": {},
   "outputs": [],
   "source": []
  }
 ],
 "metadata": {
  "kernelspec": {
   "display_name": "Python 3",
   "language": "python",
   "name": "python3"
  },
  "language_info": {
   "codemirror_mode": {
    "name": "ipython",
    "version": 3
   },
   "file_extension": ".py",
   "mimetype": "text/x-python",
   "name": "python",
   "nbconvert_exporter": "python",
   "pygments_lexer": "ipython3",
   "version": "3.7.6"
  }
 },
 "nbformat": 4,
 "nbformat_minor": 4
}
